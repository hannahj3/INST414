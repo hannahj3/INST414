{
 "cells": [
  {
   "cell_type": "code",
   "execution_count": 164,
   "id": "b8718230",
   "metadata": {},
   "outputs": [],
   "source": [
    "%matplotlib inline\n",
    "import pandas as pd\n",
    "import numpy as np\n",
    "from sklearn.cluster import KMeans"
   ]
  },
  {
   "cell_type": "code",
   "execution_count": 165,
   "id": "67297c53",
   "metadata": {},
   "outputs": [],
   "source": [
    "df = pd.read_csv((\"/Users/hannahjohnston/Downloads/archive (1)/2012-sat-results.csv\")).set_index('SCHOOL NAME')\n",
    "df = df.drop(columns=['DBN'])\n",
    "df = df[df['Num of SAT Test Takers'].str.contains('s')==False]    \n",
    "df = df.drop(columns=['Num of SAT Test Takers'])\n",
    "\n",
    "        "
   ]
  },
  {
   "cell_type": "code",
   "execution_count": 166,
   "id": "9ddf4722",
   "metadata": {},
   "outputs": [
    {
     "data": {
      "text/html": [
       "<div>\n",
       "<style scoped>\n",
       "    .dataframe tbody tr th:only-of-type {\n",
       "        vertical-align: middle;\n",
       "    }\n",
       "\n",
       "    .dataframe tbody tr th {\n",
       "        vertical-align: top;\n",
       "    }\n",
       "\n",
       "    .dataframe thead th {\n",
       "        text-align: right;\n",
       "    }\n",
       "</style>\n",
       "<table border=\"1\" class=\"dataframe\">\n",
       "  <thead>\n",
       "    <tr style=\"text-align: right;\">\n",
       "      <th></th>\n",
       "      <th>SAT Critical Reading Avg. Score</th>\n",
       "      <th>SAT Math Avg. Score</th>\n",
       "      <th>SAT Writing Avg. Score</th>\n",
       "    </tr>\n",
       "    <tr>\n",
       "      <th>SCHOOL NAME</th>\n",
       "      <th></th>\n",
       "      <th></th>\n",
       "      <th></th>\n",
       "    </tr>\n",
       "  </thead>\n",
       "  <tbody>\n",
       "    <tr>\n",
       "      <th>HENRY STREET SCHOOL FOR INTERNATIONAL STUDIES</th>\n",
       "      <td>355</td>\n",
       "      <td>404</td>\n",
       "      <td>363</td>\n",
       "    </tr>\n",
       "    <tr>\n",
       "      <th>UNIVERSITY NEIGHBORHOOD HIGH SCHOOL</th>\n",
       "      <td>383</td>\n",
       "      <td>423</td>\n",
       "      <td>366</td>\n",
       "    </tr>\n",
       "    <tr>\n",
       "      <th>EAST SIDE COMMUNITY SCHOOL</th>\n",
       "      <td>377</td>\n",
       "      <td>402</td>\n",
       "      <td>370</td>\n",
       "    </tr>\n",
       "    <tr>\n",
       "      <th>FORSYTH SATELLITE ACADEMY</th>\n",
       "      <td>414</td>\n",
       "      <td>401</td>\n",
       "      <td>359</td>\n",
       "    </tr>\n",
       "    <tr>\n",
       "      <th>MARTA VALLE HIGH SCHOOL</th>\n",
       "      <td>390</td>\n",
       "      <td>433</td>\n",
       "      <td>384</td>\n",
       "    </tr>\n",
       "    <tr>\n",
       "      <th>...</th>\n",
       "      <td>...</td>\n",
       "      <td>...</td>\n",
       "      <td>...</td>\n",
       "    </tr>\n",
       "    <tr>\n",
       "      <th>BUSHWICK LEADERS HIGH SCHOOL FOR ACADEMIC EXCELLENCE</th>\n",
       "      <td>347</td>\n",
       "      <td>358</td>\n",
       "      <td>350</td>\n",
       "    </tr>\n",
       "    <tr>\n",
       "      <th>BUSHWICK COMMUNITY HIGH SCHOOL</th>\n",
       "      <td>359</td>\n",
       "      <td>317</td>\n",
       "      <td>358</td>\n",
       "    </tr>\n",
       "    <tr>\n",
       "      <th>P.S. Q811</th>\n",
       "      <td>429</td>\n",
       "      <td>444</td>\n",
       "      <td>433</td>\n",
       "    </tr>\n",
       "    <tr>\n",
       "      <th>GED PLUS s CITYWIDE</th>\n",
       "      <td>496</td>\n",
       "      <td>400</td>\n",
       "      <td>426</td>\n",
       "    </tr>\n",
       "    <tr>\n",
       "      <th>PHOENIX ACADEMY</th>\n",
       "      <td>367</td>\n",
       "      <td>370</td>\n",
       "      <td>360</td>\n",
       "    </tr>\n",
       "  </tbody>\n",
       "</table>\n",
       "<p>421 rows × 3 columns</p>\n",
       "</div>"
      ],
      "text/plain": [
       "                                                   SAT Critical Reading Avg. Score  \\\n",
       "SCHOOL NAME                                                                          \n",
       "HENRY STREET SCHOOL FOR INTERNATIONAL STUDIES                                  355   \n",
       "UNIVERSITY NEIGHBORHOOD HIGH SCHOOL                                            383   \n",
       "EAST SIDE COMMUNITY SCHOOL                                                     377   \n",
       "FORSYTH SATELLITE ACADEMY                                                      414   \n",
       "MARTA VALLE HIGH SCHOOL                                                        390   \n",
       "...                                                                            ...   \n",
       "BUSHWICK LEADERS HIGH SCHOOL FOR ACADEMIC EXCEL...                             347   \n",
       "BUSHWICK COMMUNITY HIGH SCHOOL                                                 359   \n",
       "P.S. Q811                                                                      429   \n",
       "GED PLUS s CITYWIDE                                                            496   \n",
       "PHOENIX ACADEMY                                                                367   \n",
       "\n",
       "                                                   SAT Math Avg. Score  \\\n",
       "SCHOOL NAME                                                              \n",
       "HENRY STREET SCHOOL FOR INTERNATIONAL STUDIES                      404   \n",
       "UNIVERSITY NEIGHBORHOOD HIGH SCHOOL                                423   \n",
       "EAST SIDE COMMUNITY SCHOOL                                         402   \n",
       "FORSYTH SATELLITE ACADEMY                                          401   \n",
       "MARTA VALLE HIGH SCHOOL                                            433   \n",
       "...                                                                ...   \n",
       "BUSHWICK LEADERS HIGH SCHOOL FOR ACADEMIC EXCEL...                 358   \n",
       "BUSHWICK COMMUNITY HIGH SCHOOL                                     317   \n",
       "P.S. Q811                                                          444   \n",
       "GED PLUS s CITYWIDE                                                400   \n",
       "PHOENIX ACADEMY                                                    370   \n",
       "\n",
       "                                                   SAT Writing Avg. Score  \n",
       "SCHOOL NAME                                                                \n",
       "HENRY STREET SCHOOL FOR INTERNATIONAL STUDIES                         363  \n",
       "UNIVERSITY NEIGHBORHOOD HIGH SCHOOL                                   366  \n",
       "EAST SIDE COMMUNITY SCHOOL                                            370  \n",
       "FORSYTH SATELLITE ACADEMY                                             359  \n",
       "MARTA VALLE HIGH SCHOOL                                               384  \n",
       "...                                                                   ...  \n",
       "BUSHWICK LEADERS HIGH SCHOOL FOR ACADEMIC EXCEL...                    350  \n",
       "BUSHWICK COMMUNITY HIGH SCHOOL                                        358  \n",
       "P.S. Q811                                                             433  \n",
       "GED PLUS s CITYWIDE                                                   426  \n",
       "PHOENIX ACADEMY                                                       360  \n",
       "\n",
       "[421 rows x 3 columns]"
      ]
     },
     "execution_count": 166,
     "metadata": {},
     "output_type": "execute_result"
    }
   ],
   "source": [
    "df"
   ]
  },
  {
   "cell_type": "code",
   "execution_count": 167,
   "id": "26f4861b",
   "metadata": {},
   "outputs": [],
   "source": [
    "distortions = []\n",
    "K = range(1,10)\n",
    "for k in K:\n",
    "    kmeanModel = KMeans(n_clusters=k)\n",
    "    kmeanModel.fit(df)\n",
    "    distortions.append(kmeanModel.inertia_)"
   ]
  },
  {
   "cell_type": "code",
   "execution_count": 168,
   "id": "cee7ff2e",
   "metadata": {},
   "outputs": [
    {
     "data": {
      "image/png": "[encoded data removed]",
      "text/plain": [
       "<Figure size 1600x800 with 1 Axes>"
      ]
     },
     "metadata": {},
     "output_type": "display_data"
    }
   ],
   "source": [
    "plt.figure(figsize=(16,8))\n",
    "plt.plot(K, distortions, 'bx-')\n",
    "plt.xlabel('k')\n",
    "plt.ylabel('Distortion')\n",
    "plt.title('The Elbow Method showing the optimal k')\n",
    "plt.show()"
   ]
  },
  {
   "cell_type": "code",
   "execution_count": 138,
   "id": "8332d4a2",
   "metadata": {},
   "outputs": [
    {
     "data": {
      "text/plain": [
       "KMeans(n_clusters=3)"
      ]
     },
     "execution_count": 138,
     "metadata": {},
     "output_type": "execute_result"
    }
   ],
   "source": [
    "from sklearn.cluster import KMeans\n",
    "\n",
    "k = 3\n",
    "model = KMeans(n_clusters = k)\n",
    "model.fit(df)"
   ]
  },
  {
   "cell_type": "code",
   "execution_count": 139,
   "id": "bd801c66",
   "metadata": {},
   "outputs": [],
   "source": [
    "df[\"cluster\"] = model.labels_"
   ]
  },
  {
   "cell_type": "code",
   "execution_count": 140,
   "id": "2a98c590",
   "metadata": {},
   "outputs": [],
   "source": [
    "clustered_data = df[[\"cluster\"]]"
   ]
  },
  {
   "cell_type": "code",
   "execution_count": 141,
   "id": "55c92442",
   "metadata": {},
   "outputs": [
    {
     "data": {
      "text/html": [
       "<div>\n",
       "<style scoped>\n",
       "    .dataframe tbody tr th:only-of-type {\n",
       "        vertical-align: middle;\n",
       "    }\n",
       "\n",
       "    .dataframe tbody tr th {\n",
       "        vertical-align: top;\n",
       "    }\n",
       "\n",
       "    .dataframe thead th {\n",
       "        text-align: right;\n",
       "    }\n",
       "</style>\n",
       "<table border=\"1\" class=\"dataframe\">\n",
       "  <thead>\n",
       "    <tr style=\"text-align: right;\">\n",
       "      <th></th>\n",
       "      <th>cluster</th>\n",
       "    </tr>\n",
       "    <tr>\n",
       "      <th>SCHOOL NAME</th>\n",
       "      <th></th>\n",
       "    </tr>\n",
       "  </thead>\n",
       "  <tbody>\n",
       "    <tr>\n",
       "      <th>HENRY STREET SCHOOL FOR INTERNATIONAL STUDIES</th>\n",
       "      <td>0</td>\n",
       "    </tr>\n",
       "    <tr>\n",
       "      <th>UNIVERSITY NEIGHBORHOOD HIGH SCHOOL</th>\n",
       "      <td>0</td>\n",
       "    </tr>\n",
       "    <tr>\n",
       "      <th>EAST SIDE COMMUNITY SCHOOL</th>\n",
       "      <td>0</td>\n",
       "    </tr>\n",
       "    <tr>\n",
       "      <th>FORSYTH SATELLITE ACADEMY</th>\n",
       "      <td>0</td>\n",
       "    </tr>\n",
       "    <tr>\n",
       "      <th>MARTA VALLE HIGH SCHOOL</th>\n",
       "      <td>0</td>\n",
       "    </tr>\n",
       "    <tr>\n",
       "      <th>...</th>\n",
       "      <td>...</td>\n",
       "    </tr>\n",
       "    <tr>\n",
       "      <th>BUSHWICK LEADERS HIGH SCHOOL FOR ACADEMIC EXCELLENCE</th>\n",
       "      <td>0</td>\n",
       "    </tr>\n",
       "    <tr>\n",
       "      <th>BUSHWICK COMMUNITY HIGH SCHOOL</th>\n",
       "      <td>0</td>\n",
       "    </tr>\n",
       "    <tr>\n",
       "      <th>P.S. Q811</th>\n",
       "      <td>2</td>\n",
       "    </tr>\n",
       "    <tr>\n",
       "      <th>GED PLUS s CITYWIDE</th>\n",
       "      <td>2</td>\n",
       "    </tr>\n",
       "    <tr>\n",
       "      <th>PHOENIX ACADEMY</th>\n",
       "      <td>0</td>\n",
       "    </tr>\n",
       "  </tbody>\n",
       "</table>\n",
       "<p>421 rows × 1 columns</p>\n",
       "</div>"
      ],
      "text/plain": [
       "                                                    cluster\n",
       "SCHOOL NAME                                                \n",
       "HENRY STREET SCHOOL FOR INTERNATIONAL STUDIES             0\n",
       "UNIVERSITY NEIGHBORHOOD HIGH SCHOOL                       0\n",
       "EAST SIDE COMMUNITY SCHOOL                                0\n",
       "FORSYTH SATELLITE ACADEMY                                 0\n",
       "MARTA VALLE HIGH SCHOOL                                   0\n",
       "...                                                     ...\n",
       "BUSHWICK LEADERS HIGH SCHOOL FOR ACADEMIC EXCEL...        0\n",
       "BUSHWICK COMMUNITY HIGH SCHOOL                            0\n",
       "P.S. Q811                                                 2\n",
       "GED PLUS s CITYWIDE                                       2\n",
       "PHOENIX ACADEMY                                           0\n",
       "\n",
       "[421 rows x 1 columns]"
      ]
     },
     "execution_count": 141,
     "metadata": {},
     "output_type": "execute_result"
    }
   ],
   "source": [
    "clustered_data"
   ]
  },
  {
   "cell_type": "code",
   "execution_count": 163,
   "id": "7d8cd139",
   "metadata": {},
   "outputs": [
    {
     "data": {
      "text/plain": [
       "0    290\n",
       "2    110\n",
       "1     21\n",
       "Name: cluster, dtype: int64"
      ]
     },
     "execution_count": 163,
     "metadata": {},
     "output_type": "execute_result"
    }
   ],
   "source": [
    "clustered_data['cluster'].value_counts()"
   ]
  }
 ],
 "metadata": {
  "kernelspec": {
   "display_name": "Python 3 (ipykernel)",
   "language": "python",
   "name": "python3"
  },
  "language_info": {
   "codemirror_mode": {
    "name": "ipython",
    "version": 3
   },
   "file_extension": ".py",
   "mimetype": "text/x-python",
   "name": "python",
   "nbconvert_exporter": "python",
   "pygments_lexer": "ipython3",
   "version": "3.9.13"
  }
 },
 "nbformat": 4,
 "nbformat_minor": 5
}
