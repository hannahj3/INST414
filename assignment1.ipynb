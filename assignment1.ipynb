{
 "cells": [
  {
   "cell_type": "code",
   "execution_count": 1,
   "id": "4c74242a",
   "metadata": {},
   "outputs": [],
   "source": [
    "import requests\n",
    "import json\n",
    "import pandas\n",
    "from pandas import json_normalize\n"
   ]
  },
  {
   "cell_type": "code",
   "execution_count": 2,
   "id": "276504d1",
   "metadata": {},
   "outputs": [],
   "source": [
    "response = requests.get(\"https://data.princegeorgescountymd.gov/resource/umjn-t2iz.json\")\n"
   ]
  },
  {
   "cell_type": "code",
   "execution_count": 3,
   "id": "8071c0c1",
   "metadata": {},
   "outputs": [],
   "source": [
    "compliance = response.json()\n"
   ]
  },
  {
   "cell_type": "code",
   "execution_count": 24,
   "id": "1132193b",
   "metadata": {},
   "outputs": [],
   "source": [
    "compliance = response.json()\n",
    "df = pandas.DataFrame(compliance)\n",
    "       "
   ]
  },
  {
   "cell_type": "code",
   "execution_count": 25,
   "id": "2e9a3c8f",
   "metadata": {},
   "outputs": [
    {
     "name": "stderr",
     "output_type": "stream",
     "text": [
      "/var/folders/71/hj11c1710g5g2j5vm4_76c5r0000gn/T/ipykernel_49324/1793598363.py:9: UserWarning: Boolean Series key will be reindexed to match DataFrame index.\n",
      "  df_mask2 = df_mask1[mask2]\n"
     ]
    },
    {
     "data": {
      "text/plain": [
       "[('Mount Rainier', 1.0),\n",
       " ('TAKOMA PARK', 0.6666666666666666),\n",
       " ('Hyattsville', 0.5714285714285714),\n",
       " ('CHEVERLY', 0.4),\n",
       " ('District Heights', 0.4),\n",
       " ('GLENARDEN', 0.3333333333333333),\n",
       " ('LANHAM-SEABROOK', 0.3333333333333333),\n",
       " ('Glenn Dale', 0.3333333333333333),\n",
       " ('DISTRICT HTS', 0.32142857142857145),\n",
       " ('NEW CARROLLTON', 0.3181818181818182),\n",
       " ('DISTRICT HEIGHTS', 0.2857142857142857),\n",
       " ('BLADENSBURG', 0.2857142857142857),\n",
       " ('WEST HYATTSVILLE', 0.28125),\n",
       " ('TEMPLE HILLS', 0.2631578947368421),\n",
       " ('BELTSVILLE', 0.25),\n",
       " ('LAUREL', 0.2465753424657534),\n",
       " ('LANDOVER', 0.22857142857142856),\n",
       " ('BOWIE', 0.20833333333333334),\n",
       " ('HYATTSVILLE', 0.20634920634920634),\n",
       " ('RIVERDALE', 0.2),\n",
       " ('LANHAM', 0.2),\n",
       " ('OXON HILL', 0.19230769230769232),\n",
       " ('NATIONAL HARBOR', 0.15625),\n",
       " ('FORT WASHINGTON', 0.15151515151515152),\n",
       " ('COLLEGE PARK', 0.13924050632911392),\n",
       " ('GREENBELT', 0.13333333333333333),\n",
       " ('ACCOKEEK', 0.125),\n",
       " ('CAPITOL HEIGHTS', 0.12307692307692308),\n",
       " ('SUITLAND', 0.10714285714285714),\n",
       " ('MITCHELLVILLE', 0.10714285714285714),\n",
       " ('UPPER MARLBORO', 0.08108108108108109),\n",
       " ('CLINTON', 0.07692307692307693),\n",
       " ('MOUNT RAINIER', 0.07142857142857142),\n",
       " ('SPRINGDALE', 0.06666666666666667),\n",
       " ('LARGO', 0.06666666666666667),\n",
       " ('BRANDYWINE', 0.05263157894736842),\n",
       " ('BRENTWOOD', 0.0),\n",
       " ('CAMP SPRINGS', 0.0),\n",
       " ('Lanham', 0.0),\n",
       " ('Upper Marlboro', 0.0),\n",
       " ('FORESTVILLE', 0.0),\n",
       " ('Largo', 0.0),\n",
       " ('Camp Springs', 0.0),\n",
       " ('College Park', 0.0),\n",
       " ('CHELTENHAM', 0.0),\n",
       " ('TEMPLE HILL', 0.0),\n",
       " ('Riverdale', 0.0),\n",
       " ('Beltsville', 0.0),\n",
       " ('UNIVERSITY OF MARYLAND', 0.0),\n",
       " ('CHILLUM', 0.0),\n",
       " ('HILLCREST HEIGHTS', 0.0)]"
      ]
     },
     "execution_count": 25,
     "metadata": {},
     "output_type": "execute_result"
    }
   ],
   "source": [
    "city_perc_dict = {}\n",
    "for city in df.city.unique():\n",
    "    \n",
    "    \n",
    "    mask1 = df[\"city\"] == city\n",
    "    mask2 = df[\"rodent_and_insects\"] == \"Out of Compliance\"\n",
    "    \n",
    "    df_mask1 = df[mask1]\n",
    "    df_mask2 = df_mask1[mask2]\n",
    "    \n",
    "    num_total = len(df_mask1)\n",
    "    num_non_comply = len(df_mask2)\n",
    "    \n",
    "    city_perc_dict[city] = num_non_comply/num_total\n",
    "\n",
    "sorted_city_perc = sorted(city_perc_dict.items(), key=lambda x:x[1], reverse = True)\n",
    "sorted_city_perc\n",
    "    \n",
    "    \n"
   ]
  }
 ],
 "metadata": {
  "kernelspec": {
   "display_name": "Python 3 (ipykernel)",
   "language": "python",
   "name": "python3"
  },
  "language_info": {
   "codemirror_mode": {
    "name": "ipython",
    "version": 3
   },
   "file_extension": ".py",
   "mimetype": "text/x-python",
   "name": "python",
   "nbconvert_exporter": "python",
   "pygments_lexer": "ipython3",
   "version": "3.9.13"
  }
 },
 "nbformat": 4,
 "nbformat_minor": 5
}
