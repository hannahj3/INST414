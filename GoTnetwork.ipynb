{
 "cells": [
  {
   "cell_type": "code",
   "execution_count": 35,
   "id": "50032bf6",
   "metadata": {},
   "outputs": [],
   "source": [
    "%matplotlib inline\n",
    "import requests\n",
    "import numpy\n",
    "import json\n",
    "import pandas\n",
    "from pandas import json_normalize\n",
    "import networkx as nx"
   ]
  },
  {
   "cell_type": "code",
   "execution_count": 36,
   "id": "d01f3ada",
   "metadata": {},
   "outputs": [],
   "source": [
    "response = requests.get(\"https://www.anapioficeandfire.com/api/houses?page=2&pageSize=10\")"
   ]
  },
  {
   "cell_type": "code",
   "execution_count": 37,
   "id": "b8784d56",
   "metadata": {},
   "outputs": [],
   "source": [
    "houses = response.json()"
   ]
  },
  {
   "cell_type": "code",
   "execution_count": 38,
   "id": "e8a8b890",
   "metadata": {},
   "outputs": [],
   "source": [
    "all_houses = []\n",
    "for i in range(1,10):\n",
    "    prefix = \"https://www.anapioficeandfire.com/api/houses?\"\n",
    "    house = requests.get(prefix+\"page={}\".format(i))\n",
    "    all_houses.append(house.json())\n",
    "    "
   ]
  },
  {
   "cell_type": "code",
   "execution_count": 39,
   "id": "1af9d67d",
   "metadata": {},
   "outputs": [],
   "source": [
    "all_characters = []\n",
    "for i in range(1,215):\n",
    "    prefix = \"https://www.anapioficeandfire.com/api/characters?\"\n",
    "    characters = requests.get(prefix+\"page={}\".format(i))\n",
    "    all_characters.append(characters.json())"
   ]
  },
  {
   "cell_type": "code",
   "execution_count": 40,
   "id": "7c6529f0",
   "metadata": {},
   "outputs": [],
   "source": [
    "house_list = []\n",
    "for page in all_houses:\n",
    "    for house in page:\n",
    "        house_list.append(house)"
   ]
  },
  {
   "cell_type": "code",
   "execution_count": 41,
   "id": "f643ec1a",
   "metadata": {},
   "outputs": [],
   "source": [
    "character_list = []\n",
    "for page in all_characters:\n",
    "    for character in page:\n",
    "        character_list.append(character)"
   ]
  },
  {
   "cell_type": "code",
   "execution_count": 42,
   "id": "fbc0b474",
   "metadata": {},
   "outputs": [],
   "source": [
    "house_name_map = {}\n",
    "for house in house_list:\n",
    "    house_name_map[house[\"url\"]] = house[\"name\"]  "
   ]
  },
  {
   "cell_type": "code",
   "execution_count": 70,
   "id": "33dfa91c",
   "metadata": {},
   "outputs": [],
   "source": [
    "character_name_map = {}\n",
    "for character in character_list:\n",
    "    character_name_map[character[\"url\"]] = character[\"name\"]"
   ]
  },
  {
   "cell_type": "code",
   "execution_count": 45,
   "id": "5fcd0621",
   "metadata": {},
   "outputs": [],
   "source": [
    "g1 = nx.Graph()"
   ]
  },
  {
   "cell_type": "code",
   "execution_count": 47,
   "id": "e8aa0588",
   "metadata": {},
   "outputs": [],
   "source": [
    "for character in character_name_map:\n",
    "    g1.add_node(character, name = character_name_map[character])"
   ]
  },
  {
   "cell_type": "code",
   "execution_count": 101,
   "id": "52154eec",
   "metadata": {},
   "outputs": [],
   "source": [
    "for house in house_list:   \n",
    "    if house[\"swornMembers\"] != '':\n",
    "        i = 0\n",
    "        for left_character in house[\"swornMembers\"]:\n",
    "            for right_character in house[\"swornMembers\"][i+1:]:\n",
    "                g1.add_edge(left_character, right_character)\n",
    "            i+=1"
   ]
  },
  {
   "cell_type": "code",
   "execution_count": 49,
   "id": "54f6c5a5",
   "metadata": {},
   "outputs": [],
   "source": [
    "nx.write_graphml(g1, \"GoT.graphml\")"
   ]
  },
  {
   "cell_type": "code",
   "execution_count": 65,
   "id": "127d12b8",
   "metadata": {},
   "outputs": [],
   "source": [
    "bridge_list = list(nx.bridges(g1))            "
   ]
  },
  {
   "cell_type": "code",
   "execution_count": 102,
   "id": "4ac8b772",
   "metadata": {},
   "outputs": [],
   "source": [
    "bridge_characters = []\n",
    "for bridge in bridge_list:\n",
    "    for item in bridge:\n",
    "        bridge_character = character_list[int(item[-3:])]\n",
    "        bridge_characters.append(bridge_character['name'])"
   ]
  },
  {
   "cell_type": "code",
   "execution_count": 103,
   "id": "6700e021",
   "metadata": {},
   "outputs": [
    {
     "data": {
      "text/plain": [
       "['Andros Brax',\n",
       " 'Clarence Crabb',\n",
       " 'Baelor Hightower',\n",
       " 'Beron Stark',\n",
       " 'Balon Botley',\n",
       " 'Flement Brax',\n",
       " 'Benedict Broom',\n",
       " 'Mary Mertyns',\n",
       " 'Bennarion Botley',\n",
       " 'Lucamore Strong',\n",
       " 'Cerenna Lannister',\n",
       " 'Ramsay Snow',\n",
       " 'Eleanor Mooton',\n",
       " 'Lucas Corbray',\n",
       " 'Horas Redwyne',\n",
       " 'Quentin Tyrell']"
      ]
     },
     "execution_count": 103,
     "metadata": {},
     "output_type": "execute_result"
    }
   ],
   "source": [
    "bridge_characters"
   ]
  }
 ],
 "metadata": {
  "kernelspec": {
   "display_name": "Python 3 (ipykernel)",
   "language": "python",
   "name": "python3"
  },
  "language_info": {
   "codemirror_mode": {
    "name": "ipython",
    "version": 3
   },
   "file_extension": ".py",
   "mimetype": "text/x-python",
   "name": "python",
   "nbconvert_exporter": "python",
   "pygments_lexer": "ipython3",
   "version": "3.9.13"
  }
 },
 "nbformat": 4,
 "nbformat_minor": 5
}
